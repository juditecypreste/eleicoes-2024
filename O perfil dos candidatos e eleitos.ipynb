{
 "cells": [
  {
   "cell_type": "markdown",
   "id": "332557e6-ed0a-4832-8cc7-c7975037bdc8",
   "metadata": {},
   "source": [
    "## Código utilizado para análise de dados das reportagens: \n",
    "### - [Homem, negro, casado, com ensino médio e 46 anos: conheça o perfil dos candidatos nas eleições 2024](https://g1.globo.com/politica/eleicoes/2024/eleicao-em-numeros/noticia/2024/08/16/homem-negro-casado-com-ensino-medio-e-46-anos-conheca-o-perfil-dos-candidatos-nas-eleicoes-2024.ghtml)\n",
    "### - [Homem, branco e casado: conheça o perfil dos eleitos nas eleições 2024](https://g1.globo.com/politica/eleicoes/2024/eleicao-em-numeros/noticia/2024/10/30/homem-branco-e-casado-conheca-o-perfil-dos-eleitos-nas-eleicoes-2024.ghtml)\n",
    "\n",
    "#### PS.: Para cada reportagem foi utilizada bases de dados diferentes (candidatos e eleitos)"
   ]
  },
  {
   "cell_type": "code",
   "execution_count": 1,
   "id": "d0f6439a-79c4-4d25-8e88-0548a595bb32",
   "metadata": {},
   "outputs": [],
   "source": [
    "# Importa as bibliotecas necessárias para a análise\n",
    "import pandas as pd\n",
    "import numpy as np\n",
    "import re\n",
    "import numpy as np"
   ]
  },
  {
   "cell_type": "code",
   "execution_count": 2,
   "id": "2e1ecea0-04b6-4ffc-895c-adf060c8da56",
   "metadata": {},
   "outputs": [],
   "source": [
    "# Me mostre tudo\n",
    "pd.set_option(\"display.max_rows\", None)\n",
    "pd.set_option(\"display.max_columns\", None)"
   ]
  },
  {
   "cell_type": "code",
   "execution_count": 4,
   "id": "4e23e44e-3542-4468-ab6f-68eaf2326f6e",
   "metadata": {},
   "outputs": [],
   "source": [
    "# Lê os dados do arquivo CSV contendo informações eleitorais\n",
    "df = pd.read_csv(\"data/consulta_cand_2024_BRASIL.csv\", delimiter =';', encoding='latin-1')"
   ]
  },
  {
   "cell_type": "code",
   "execution_count": 5,
   "id": "08f7485f-d1ee-4db3-b62d-f783759fd50e",
   "metadata": {},
   "outputs": [
    {
     "data": {
      "text/html": [
       "<div>\n",
       "<style scoped>\n",
       "    .dataframe tbody tr th:only-of-type {\n",
       "        vertical-align: middle;\n",
       "    }\n",
       "\n",
       "    .dataframe tbody tr th {\n",
       "        vertical-align: top;\n",
       "    }\n",
       "\n",
       "    .dataframe thead th {\n",
       "        text-align: right;\n",
       "    }\n",
       "</style>\n",
       "<table border=\"1\" class=\"dataframe\">\n",
       "  <thead>\n",
       "    <tr style=\"text-align: right;\">\n",
       "      <th></th>\n",
       "      <th>DT_GERACAO</th>\n",
       "      <th>HH_GERACAO</th>\n",
       "      <th>ANO_ELEICAO</th>\n",
       "      <th>CD_TIPO_ELEICAO</th>\n",
       "      <th>NM_TIPO_ELEICAO</th>\n",
       "      <th>NR_TURNO</th>\n",
       "      <th>CD_ELEICAO</th>\n",
       "      <th>DS_ELEICAO</th>\n",
       "      <th>DT_ELEICAO</th>\n",
       "      <th>TP_ABRANGENCIA</th>\n",
       "      <th>SG_UF</th>\n",
       "      <th>SG_UE</th>\n",
       "      <th>NM_UE</th>\n",
       "      <th>CD_CARGO</th>\n",
       "      <th>DS_CARGO</th>\n",
       "      <th>SQ_CANDIDATO</th>\n",
       "      <th>NR_CANDIDATO</th>\n",
       "      <th>NM_CANDIDATO</th>\n",
       "      <th>NM_URNA_CANDIDATO</th>\n",
       "      <th>NM_SOCIAL_CANDIDATO</th>\n",
       "      <th>NR_CPF_CANDIDATO</th>\n",
       "      <th>DS_EMAIL</th>\n",
       "      <th>CD_SITUACAO_CANDIDATURA</th>\n",
       "      <th>DS_SITUACAO_CANDIDATURA</th>\n",
       "      <th>TP_AGREMIACAO</th>\n",
       "      <th>NR_PARTIDO</th>\n",
       "      <th>SG_PARTIDO</th>\n",
       "      <th>NM_PARTIDO</th>\n",
       "      <th>NR_FEDERACAO</th>\n",
       "      <th>NM_FEDERACAO</th>\n",
       "      <th>SG_FEDERACAO</th>\n",
       "      <th>DS_COMPOSICAO_FEDERACAO</th>\n",
       "      <th>SQ_COLIGACAO</th>\n",
       "      <th>NM_COLIGACAO</th>\n",
       "      <th>DS_COMPOSICAO_COLIGACAO</th>\n",
       "      <th>SG_UF_NASCIMENTO</th>\n",
       "      <th>DT_NASCIMENTO</th>\n",
       "      <th>NR_TITULO_ELEITORAL_CANDIDATO</th>\n",
       "      <th>CD_GENERO</th>\n",
       "      <th>DS_GENERO</th>\n",
       "      <th>CD_GRAU_INSTRUCAO</th>\n",
       "      <th>DS_GRAU_INSTRUCAO</th>\n",
       "      <th>CD_ESTADO_CIVIL</th>\n",
       "      <th>DS_ESTADO_CIVIL</th>\n",
       "      <th>CD_COR_RACA</th>\n",
       "      <th>DS_COR_RACA</th>\n",
       "      <th>CD_OCUPACAO</th>\n",
       "      <th>DS_OCUPACAO</th>\n",
       "      <th>CD_SIT_TOT_TURNO</th>\n",
       "      <th>DS_SIT_TOT_TURNO</th>\n",
       "    </tr>\n",
       "  </thead>\n",
       "  <tbody>\n",
       "    <tr>\n",
       "      <th>0</th>\n",
       "      <td>20/10/2024</td>\n",
       "      <td>19:30:33</td>\n",
       "      <td>2024</td>\n",
       "      <td>2</td>\n",
       "      <td>ELEIÇÃO ORDINÁRIA</td>\n",
       "      <td>1</td>\n",
       "      <td>619</td>\n",
       "      <td>Eleições Municipais 2024</td>\n",
       "      <td>06/10/2024</td>\n",
       "      <td>MUNICIPAL</td>\n",
       "      <td>AM</td>\n",
       "      <td>2534</td>\n",
       "      <td>MANACAPURU</td>\n",
       "      <td>13</td>\n",
       "      <td>VEREADOR</td>\n",
       "      <td>40002148408</td>\n",
       "      <td>10852</td>\n",
       "      <td>SANDRO FREIRE DO VALE</td>\n",
       "      <td>SANDRO HIROSHI</td>\n",
       "      <td>#NULO#</td>\n",
       "      <td>-4</td>\n",
       "      <td>NÃO DIVULGÁVEL</td>\n",
       "      <td>-3</td>\n",
       "      <td>#NE</td>\n",
       "      <td>PARTIDO ISOLADO</td>\n",
       "      <td>10</td>\n",
       "      <td>REPUBLICANOS</td>\n",
       "      <td>REPUBLICANOS</td>\n",
       "      <td>-1</td>\n",
       "      <td>#NULO#</td>\n",
       "      <td>#NULO#</td>\n",
       "      <td>#NULO#</td>\n",
       "      <td>40001730911</td>\n",
       "      <td>PARTIDO ISOLADO</td>\n",
       "      <td>REPUBLICANOS</td>\n",
       "      <td>AM</td>\n",
       "      <td>21/12/1982</td>\n",
       "      <td>21297562283</td>\n",
       "      <td>2</td>\n",
       "      <td>MASCULINO</td>\n",
       "      <td>6</td>\n",
       "      <td>ENSINO MÉDIO COMPLETO</td>\n",
       "      <td>1</td>\n",
       "      <td>SOLTEIRO(A)</td>\n",
       "      <td>3</td>\n",
       "      <td>PARDA</td>\n",
       "      <td>190</td>\n",
       "      <td>FOTÓGRAFO E ASSEMELHADOS</td>\n",
       "      <td>5</td>\n",
       "      <td>SUPLENTE</td>\n",
       "    </tr>\n",
       "    <tr>\n",
       "      <th>1</th>\n",
       "      <td>20/10/2024</td>\n",
       "      <td>19:30:33</td>\n",
       "      <td>2024</td>\n",
       "      <td>2</td>\n",
       "      <td>ELEIÇÃO ORDINÁRIA</td>\n",
       "      <td>1</td>\n",
       "      <td>619</td>\n",
       "      <td>Eleições Municipais 2024</td>\n",
       "      <td>06/10/2024</td>\n",
       "      <td>MUNICIPAL</td>\n",
       "      <td>MG</td>\n",
       "      <td>51896</td>\n",
       "      <td>SANTA RITA DO ITUETO</td>\n",
       "      <td>13</td>\n",
       "      <td>VEREADOR</td>\n",
       "      <td>130001957774</td>\n",
       "      <td>10212</td>\n",
       "      <td>ERICA KAROLINA CAETANO HENRIQUE</td>\n",
       "      <td>ERICA KAROLINA</td>\n",
       "      <td>#NULO#</td>\n",
       "      <td>-4</td>\n",
       "      <td>NÃO DIVULGÁVEL</td>\n",
       "      <td>-3</td>\n",
       "      <td>#NE</td>\n",
       "      <td>PARTIDO ISOLADO</td>\n",
       "      <td>10</td>\n",
       "      <td>REPUBLICANOS</td>\n",
       "      <td>REPUBLICANOS</td>\n",
       "      <td>-1</td>\n",
       "      <td>#NULO#</td>\n",
       "      <td>#NULO#</td>\n",
       "      <td>#NULO#</td>\n",
       "      <td>130001701435</td>\n",
       "      <td>PARTIDO ISOLADO</td>\n",
       "      <td>REPUBLICANOS</td>\n",
       "      <td>MG</td>\n",
       "      <td>08/02/2000</td>\n",
       "      <td>213072370281</td>\n",
       "      <td>4</td>\n",
       "      <td>FEMININO</td>\n",
       "      <td>5</td>\n",
       "      <td>ENSINO MÉDIO INCOMPLETO</td>\n",
       "      <td>1</td>\n",
       "      <td>SOLTEIRO(A)</td>\n",
       "      <td>3</td>\n",
       "      <td>PARDA</td>\n",
       "      <td>194</td>\n",
       "      <td>FRENTISTA</td>\n",
       "      <td>5</td>\n",
       "      <td>SUPLENTE</td>\n",
       "    </tr>\n",
       "    <tr>\n",
       "      <th>2</th>\n",
       "      <td>20/10/2024</td>\n",
       "      <td>19:30:33</td>\n",
       "      <td>2024</td>\n",
       "      <td>2</td>\n",
       "      <td>ELEIÇÃO ORDINÁRIA</td>\n",
       "      <td>1</td>\n",
       "      <td>619</td>\n",
       "      <td>Eleições Municipais 2024</td>\n",
       "      <td>06/10/2024</td>\n",
       "      <td>MUNICIPAL</td>\n",
       "      <td>MG</td>\n",
       "      <td>51896</td>\n",
       "      <td>SANTA RITA DO ITUETO</td>\n",
       "      <td>13</td>\n",
       "      <td>VEREADOR</td>\n",
       "      <td>130001957769</td>\n",
       "      <td>10666</td>\n",
       "      <td>JOSÉ ALONSO BENINCA</td>\n",
       "      <td>ALONSO BENICÁ</td>\n",
       "      <td>#NULO#</td>\n",
       "      <td>-4</td>\n",
       "      <td>NÃO DIVULGÁVEL</td>\n",
       "      <td>-3</td>\n",
       "      <td>#NE</td>\n",
       "      <td>PARTIDO ISOLADO</td>\n",
       "      <td>10</td>\n",
       "      <td>REPUBLICANOS</td>\n",
       "      <td>REPUBLICANOS</td>\n",
       "      <td>-1</td>\n",
       "      <td>#NULO#</td>\n",
       "      <td>#NULO#</td>\n",
       "      <td>#NULO#</td>\n",
       "      <td>130001701435</td>\n",
       "      <td>PARTIDO ISOLADO</td>\n",
       "      <td>REPUBLICANOS</td>\n",
       "      <td>MG</td>\n",
       "      <td>04/11/1972</td>\n",
       "      <td>99720130221</td>\n",
       "      <td>2</td>\n",
       "      <td>MASCULINO</td>\n",
       "      <td>4</td>\n",
       "      <td>ENSINO FUNDAMENTAL COMPLETO</td>\n",
       "      <td>3</td>\n",
       "      <td>CASADO(A)</td>\n",
       "      <td>1</td>\n",
       "      <td>BRANCA</td>\n",
       "      <td>278</td>\n",
       "      <td>VEREADOR</td>\n",
       "      <td>2</td>\n",
       "      <td>ELEITO POR QP</td>\n",
       "    </tr>\n",
       "    <tr>\n",
       "      <th>3</th>\n",
       "      <td>20/10/2024</td>\n",
       "      <td>19:30:33</td>\n",
       "      <td>2024</td>\n",
       "      <td>2</td>\n",
       "      <td>ELEIÇÃO ORDINÁRIA</td>\n",
       "      <td>1</td>\n",
       "      <td>619</td>\n",
       "      <td>Eleições Municipais 2024</td>\n",
       "      <td>06/10/2024</td>\n",
       "      <td>MUNICIPAL</td>\n",
       "      <td>RS</td>\n",
       "      <td>88412</td>\n",
       "      <td>SANTA MARIA</td>\n",
       "      <td>13</td>\n",
       "      <td>VEREADOR</td>\n",
       "      <td>210001882348</td>\n",
       "      <td>10888</td>\n",
       "      <td>EVERTON BITTENCOURTE MACHADO</td>\n",
       "      <td>EVERTON MACHADO</td>\n",
       "      <td>#NULO#</td>\n",
       "      <td>-4</td>\n",
       "      <td>NÃO DIVULGÁVEL</td>\n",
       "      <td>-3</td>\n",
       "      <td>#NE</td>\n",
       "      <td>PARTIDO ISOLADO</td>\n",
       "      <td>10</td>\n",
       "      <td>REPUBLICANOS</td>\n",
       "      <td>REPUBLICANOS</td>\n",
       "      <td>-1</td>\n",
       "      <td>#NULO#</td>\n",
       "      <td>#NULO#</td>\n",
       "      <td>#NULO#</td>\n",
       "      <td>210001687391</td>\n",
       "      <td>PARTIDO ISOLADO</td>\n",
       "      <td>REPUBLICANOS</td>\n",
       "      <td>RS</td>\n",
       "      <td>30/08/1981</td>\n",
       "      <td>79873570400</td>\n",
       "      <td>2</td>\n",
       "      <td>MASCULINO</td>\n",
       "      <td>4</td>\n",
       "      <td>ENSINO FUNDAMENTAL COMPLETO</td>\n",
       "      <td>3</td>\n",
       "      <td>CASADO(A)</td>\n",
       "      <td>1</td>\n",
       "      <td>BRANCA</td>\n",
       "      <td>537</td>\n",
       "      <td>MOTORISTA PARTICULAR</td>\n",
       "      <td>5</td>\n",
       "      <td>SUPLENTE</td>\n",
       "    </tr>\n",
       "    <tr>\n",
       "      <th>4</th>\n",
       "      <td>20/10/2024</td>\n",
       "      <td>19:30:33</td>\n",
       "      <td>2024</td>\n",
       "      <td>2</td>\n",
       "      <td>ELEIÇÃO ORDINÁRIA</td>\n",
       "      <td>1</td>\n",
       "      <td>619</td>\n",
       "      <td>Eleições Municipais 2024</td>\n",
       "      <td>06/10/2024</td>\n",
       "      <td>MUNICIPAL</td>\n",
       "      <td>RS</td>\n",
       "      <td>88811</td>\n",
       "      <td>SÃO LUIZ GONZAGA</td>\n",
       "      <td>13</td>\n",
       "      <td>VEREADOR</td>\n",
       "      <td>210002070520</td>\n",
       "      <td>10777</td>\n",
       "      <td>MARIA SARITA GUEDES FERNANDES</td>\n",
       "      <td>SARITA GUEDES</td>\n",
       "      <td>#NULO#</td>\n",
       "      <td>-4</td>\n",
       "      <td>NÃO DIVULGÁVEL</td>\n",
       "      <td>-3</td>\n",
       "      <td>#NE</td>\n",
       "      <td>PARTIDO ISOLADO</td>\n",
       "      <td>10</td>\n",
       "      <td>REPUBLICANOS</td>\n",
       "      <td>REPUBLICANOS</td>\n",
       "      <td>-1</td>\n",
       "      <td>#NULO#</td>\n",
       "      <td>#NULO#</td>\n",
       "      <td>#NULO#</td>\n",
       "      <td>210001715189</td>\n",
       "      <td>PARTIDO ISOLADO</td>\n",
       "      <td>REPUBLICANOS</td>\n",
       "      <td>RS</td>\n",
       "      <td>29/09/1967</td>\n",
       "      <td>11835960469</td>\n",
       "      <td>4</td>\n",
       "      <td>FEMININO</td>\n",
       "      <td>8</td>\n",
       "      <td>SUPERIOR COMPLETO</td>\n",
       "      <td>3</td>\n",
       "      <td>CASADO(A)</td>\n",
       "      <td>1</td>\n",
       "      <td>BRANCA</td>\n",
       "      <td>922</td>\n",
       "      <td>SERVIDOR PÚBLICO CIVIL APOSENTADO</td>\n",
       "      <td>4</td>\n",
       "      <td>NÃO ELEITO</td>\n",
       "    </tr>\n",
       "  </tbody>\n",
       "</table>\n",
       "</div>"
      ],
      "text/plain": [
       "   DT_GERACAO HH_GERACAO  ANO_ELEICAO  CD_TIPO_ELEICAO    NM_TIPO_ELEICAO  \\\n",
       "0  20/10/2024   19:30:33         2024                2  ELEIÇÃO ORDINÁRIA   \n",
       "1  20/10/2024   19:30:33         2024                2  ELEIÇÃO ORDINÁRIA   \n",
       "2  20/10/2024   19:30:33         2024                2  ELEIÇÃO ORDINÁRIA   \n",
       "3  20/10/2024   19:30:33         2024                2  ELEIÇÃO ORDINÁRIA   \n",
       "4  20/10/2024   19:30:33         2024                2  ELEIÇÃO ORDINÁRIA   \n",
       "\n",
       "   NR_TURNO  CD_ELEICAO                DS_ELEICAO  DT_ELEICAO TP_ABRANGENCIA  \\\n",
       "0         1         619  Eleições Municipais 2024  06/10/2024      MUNICIPAL   \n",
       "1         1         619  Eleições Municipais 2024  06/10/2024      MUNICIPAL   \n",
       "2         1         619  Eleições Municipais 2024  06/10/2024      MUNICIPAL   \n",
       "3         1         619  Eleições Municipais 2024  06/10/2024      MUNICIPAL   \n",
       "4         1         619  Eleições Municipais 2024  06/10/2024      MUNICIPAL   \n",
       "\n",
       "  SG_UF  SG_UE                 NM_UE  CD_CARGO  DS_CARGO  SQ_CANDIDATO  \\\n",
       "0    AM   2534            MANACAPURU        13  VEREADOR   40002148408   \n",
       "1    MG  51896  SANTA RITA DO ITUETO        13  VEREADOR  130001957774   \n",
       "2    MG  51896  SANTA RITA DO ITUETO        13  VEREADOR  130001957769   \n",
       "3    RS  88412           SANTA MARIA        13  VEREADOR  210001882348   \n",
       "4    RS  88811      SÃO LUIZ GONZAGA        13  VEREADOR  210002070520   \n",
       "\n",
       "   NR_CANDIDATO                     NM_CANDIDATO NM_URNA_CANDIDATO  \\\n",
       "0         10852            SANDRO FREIRE DO VALE    SANDRO HIROSHI   \n",
       "1         10212  ERICA KAROLINA CAETANO HENRIQUE    ERICA KAROLINA   \n",
       "2         10666              JOSÉ ALONSO BENINCA     ALONSO BENICÁ   \n",
       "3         10888     EVERTON BITTENCOURTE MACHADO   EVERTON MACHADO   \n",
       "4         10777    MARIA SARITA GUEDES FERNANDES     SARITA GUEDES   \n",
       "\n",
       "  NM_SOCIAL_CANDIDATO  NR_CPF_CANDIDATO        DS_EMAIL  \\\n",
       "0              #NULO#                -4  NÃO DIVULGÁVEL   \n",
       "1              #NULO#                -4  NÃO DIVULGÁVEL   \n",
       "2              #NULO#                -4  NÃO DIVULGÁVEL   \n",
       "3              #NULO#                -4  NÃO DIVULGÁVEL   \n",
       "4              #NULO#                -4  NÃO DIVULGÁVEL   \n",
       "\n",
       "   CD_SITUACAO_CANDIDATURA DS_SITUACAO_CANDIDATURA    TP_AGREMIACAO  \\\n",
       "0                       -3                     #NE  PARTIDO ISOLADO   \n",
       "1                       -3                     #NE  PARTIDO ISOLADO   \n",
       "2                       -3                     #NE  PARTIDO ISOLADO   \n",
       "3                       -3                     #NE  PARTIDO ISOLADO   \n",
       "4                       -3                     #NE  PARTIDO ISOLADO   \n",
       "\n",
       "   NR_PARTIDO    SG_PARTIDO    NM_PARTIDO  NR_FEDERACAO NM_FEDERACAO  \\\n",
       "0          10  REPUBLICANOS  REPUBLICANOS            -1       #NULO#   \n",
       "1          10  REPUBLICANOS  REPUBLICANOS            -1       #NULO#   \n",
       "2          10  REPUBLICANOS  REPUBLICANOS            -1       #NULO#   \n",
       "3          10  REPUBLICANOS  REPUBLICANOS            -1       #NULO#   \n",
       "4          10  REPUBLICANOS  REPUBLICANOS            -1       #NULO#   \n",
       "\n",
       "  SG_FEDERACAO DS_COMPOSICAO_FEDERACAO  SQ_COLIGACAO     NM_COLIGACAO  \\\n",
       "0       #NULO#                  #NULO#   40001730911  PARTIDO ISOLADO   \n",
       "1       #NULO#                  #NULO#  130001701435  PARTIDO ISOLADO   \n",
       "2       #NULO#                  #NULO#  130001701435  PARTIDO ISOLADO   \n",
       "3       #NULO#                  #NULO#  210001687391  PARTIDO ISOLADO   \n",
       "4       #NULO#                  #NULO#  210001715189  PARTIDO ISOLADO   \n",
       "\n",
       "  DS_COMPOSICAO_COLIGACAO SG_UF_NASCIMENTO DT_NASCIMENTO  \\\n",
       "0            REPUBLICANOS               AM    21/12/1982   \n",
       "1            REPUBLICANOS               MG    08/02/2000   \n",
       "2            REPUBLICANOS               MG    04/11/1972   \n",
       "3            REPUBLICANOS               RS    30/08/1981   \n",
       "4            REPUBLICANOS               RS    29/09/1967   \n",
       "\n",
       "   NR_TITULO_ELEITORAL_CANDIDATO  CD_GENERO  DS_GENERO  CD_GRAU_INSTRUCAO  \\\n",
       "0                    21297562283          2  MASCULINO                  6   \n",
       "1                   213072370281          4   FEMININO                  5   \n",
       "2                    99720130221          2  MASCULINO                  4   \n",
       "3                    79873570400          2  MASCULINO                  4   \n",
       "4                    11835960469          4   FEMININO                  8   \n",
       "\n",
       "             DS_GRAU_INSTRUCAO  CD_ESTADO_CIVIL DS_ESTADO_CIVIL  CD_COR_RACA  \\\n",
       "0        ENSINO MÉDIO COMPLETO                1     SOLTEIRO(A)            3   \n",
       "1      ENSINO MÉDIO INCOMPLETO                1     SOLTEIRO(A)            3   \n",
       "2  ENSINO FUNDAMENTAL COMPLETO                3       CASADO(A)            1   \n",
       "3  ENSINO FUNDAMENTAL COMPLETO                3       CASADO(A)            1   \n",
       "4            SUPERIOR COMPLETO                3       CASADO(A)            1   \n",
       "\n",
       "  DS_COR_RACA  CD_OCUPACAO                        DS_OCUPACAO  \\\n",
       "0       PARDA          190           FOTÓGRAFO E ASSEMELHADOS   \n",
       "1       PARDA          194                          FRENTISTA   \n",
       "2      BRANCA          278                           VEREADOR   \n",
       "3      BRANCA          537               MOTORISTA PARTICULAR   \n",
       "4      BRANCA          922  SERVIDOR PÚBLICO CIVIL APOSENTADO   \n",
       "\n",
       "   CD_SIT_TOT_TURNO DS_SIT_TOT_TURNO  \n",
       "0                 5         SUPLENTE  \n",
       "1                 5         SUPLENTE  \n",
       "2                 2    ELEITO POR QP  \n",
       "3                 5         SUPLENTE  \n",
       "4                 4       NÃO ELEITO  "
      ]
     },
     "execution_count": 5,
     "metadata": {},
     "output_type": "execute_result"
    }
   ],
   "source": [
    "df.head()"
   ]
  },
  {
   "cell_type": "markdown",
   "id": "a2a562d7-b0ca-4fc8-8653-218663bb4bf8",
   "metadata": {},
   "source": [
    "### 🧹 Limpando duplicados"
   ]
  },
  {
   "cell_type": "code",
   "execution_count": 6,
   "id": "513195fb-6005-441a-8622-9d39804ef524",
   "metadata": {},
   "outputs": [],
   "source": [
    "# Checando os duplicados segundo o número de identificação do título de eleitor\n",
    "duplicados = df[df.duplicated(subset='NR_TITULO_ELEITORAL_CANDIDATO', keep=False)]"
   ]
  },
  {
   "cell_type": "code",
   "execution_count": 7,
   "id": "3c73ad83-9e1e-434e-b9bd-6b55f0c26a49",
   "metadata": {},
   "outputs": [],
   "source": [
    "df = df.drop_duplicates(subset='NR_TITULO_ELEITORAL_CANDIDATO')"
   ]
  },
  {
   "cell_type": "code",
   "execution_count": 8,
   "id": "e2021465-507a-4993-aeaf-7d321681f39a",
   "metadata": {},
   "outputs": [
    {
     "data": {
      "text/plain": [
       "462777"
      ]
     },
     "execution_count": 8,
     "metadata": {},
     "output_type": "execute_result"
    }
   ],
   "source": [
    "df[\"NR_TITULO_ELEITORAL_CANDIDATO\"].nunique()"
   ]
  },
  {
   "cell_type": "markdown",
   "id": "c8fe93a2-b77f-4075-a344-2b1fbfe91018",
   "metadata": {},
   "source": [
    "### Filtrando apenas os eleitos"
   ]
  },
  {
   "cell_type": "code",
   "execution_count": 9,
   "id": "af36f909-7de4-466b-acd6-9109372a3bf0",
   "metadata": {},
   "outputs": [],
   "source": [
    "df = df[df['DS_SIT_TOT_TURNO'].isin(['ELEITO', 'ELEITO POR MÉDIA'])]"
   ]
  },
  {
   "cell_type": "markdown",
   "id": "f0fe6d09-b783-4f6c-9e7f-ee0f4eb21c2a",
   "metadata": {},
   "source": [
    "### 🧮 Total de candidatos"
   ]
  },
  {
   "cell_type": "code",
   "execution_count": 10,
   "id": "9a306858-4d3f-4771-8e6f-02bc78227a27",
   "metadata": {},
   "outputs": [
    {
     "data": {
      "text/plain": [
       "28912"
      ]
     },
     "execution_count": 10,
     "metadata": {},
     "output_type": "execute_result"
    }
   ],
   "source": [
    "df.shape[0]"
   ]
  },
  {
   "cell_type": "code",
   "execution_count": 11,
   "id": "1967d286-a0d4-428c-9e18-0b2020e14500",
   "metadata": {},
   "outputs": [
    {
     "data": {
      "text/plain": [
       "array(['VEREADOR', 'PREFEITO', 'VICE-PREFEITO'], dtype=object)"
      ]
     },
     "execution_count": 11,
     "metadata": {},
     "output_type": "execute_result"
    }
   ],
   "source": [
    "df[\"DS_CARGO\"].unique() #me mostre o que tem"
   ]
  },
  {
   "cell_type": "code",
   "execution_count": 12,
   "id": "81327176-07f4-4ada-9bcb-12c5632096fc",
   "metadata": {},
   "outputs": [
    {
     "data": {
      "text/plain": [
       "DS_CARGO\n",
       "VEREADOR         18003\n",
       "PREFEITO          5455\n",
       "VICE-PREFEITO     5454\n",
       "Name: count, dtype: int64"
      ]
     },
     "execution_count": 12,
     "metadata": {},
     "output_type": "execute_result"
    }
   ],
   "source": [
    "df[\"DS_CARGO\"].value_counts()"
   ]
  },
  {
   "cell_type": "markdown",
   "id": "4bcf7f4e-db33-42fe-9115-0c8bab58a719",
   "metadata": {},
   "source": [
    "### ♂️ ♀️ Gênero"
   ]
  },
  {
   "cell_type": "code",
   "execution_count": 13,
   "id": "d94fb978-6d50-439f-9da4-976eaa2ae7ba",
   "metadata": {},
   "outputs": [
    {
     "data": {
      "text/plain": [
       "array(['FEMININO', 'MASCULINO'], dtype=object)"
      ]
     },
     "execution_count": 13,
     "metadata": {},
     "output_type": "execute_result"
    }
   ],
   "source": [
    "df[\"DS_GENERO\"].unique() #me mostre o que tem"
   ]
  },
  {
   "cell_type": "code",
   "execution_count": 14,
   "id": "700811b0-e036-4f4f-9f78-6893afa69970",
   "metadata": {},
   "outputs": [
    {
     "data": {
      "text/plain": [
       "DS_GENERO\n",
       "MASCULINO    82.104317\n",
       "FEMININO     17.895683\n",
       "Name: proportion, dtype: float64"
      ]
     },
     "execution_count": 14,
     "metadata": {},
     "output_type": "execute_result"
    }
   ],
   "source": [
    "df[\"DS_GENERO\"].value_counts(normalize=True) * 100"
   ]
  },
  {
   "cell_type": "markdown",
   "id": "df2cec5c-9a22-47ae-9c85-98a0c504f43f",
   "metadata": {},
   "source": [
    "### ✊🏽 Cor/Raça"
   ]
  },
  {
   "cell_type": "code",
   "execution_count": 15,
   "id": "352c9aeb-8b6f-4414-8989-1bc652f12a05",
   "metadata": {},
   "outputs": [],
   "source": [
    "df[\"DS_COR_RACA\"] = df[\"DS_COR_RACA\"].replace([\"PARDA\", \"PRETA\"], \"NEGRA\")"
   ]
  },
  {
   "cell_type": "code",
   "execution_count": 16,
   "id": "4ab71668-eca3-405b-b291-10554a459471",
   "metadata": {},
   "outputs": [
    {
     "data": {
      "text/plain": [
       "DS_COR_RACA\n",
       "BRANCA           57.322219\n",
       "NEGRA            41.470670\n",
       "NÃO INFORMADO     0.456558\n",
       "INDÍGENA          0.390841\n",
       "AMARELA           0.359712\n",
       "Name: proportion, dtype: float64"
      ]
     },
     "execution_count": 16,
     "metadata": {},
     "output_type": "execute_result"
    }
   ],
   "source": [
    "df[\"DS_COR_RACA\"].value_counts(normalize=True) * 100"
   ]
  },
  {
   "cell_type": "markdown",
   "id": "9483c022-2dca-4d5e-9bd3-e58d131069aa",
   "metadata": {},
   "source": [
    "### 🎂 Idade"
   ]
  },
  {
   "cell_type": "code",
   "execution_count": 17,
   "id": "0348b05b-4369-4bf6-822d-76982fc99b46",
   "metadata": {},
   "outputs": [],
   "source": [
    "df['DT_NASCIMENTO'] = pd.to_datetime(df['DT_NASCIMENTO'], format='%d/%m/%Y', errors='coerce')"
   ]
  },
  {
   "cell_type": "code",
   "execution_count": 18,
   "id": "3f176fc7-feb9-41de-91d3-bf4a18ccdb5d",
   "metadata": {},
   "outputs": [
    {
     "name": "stdout",
     "output_type": "stream",
     "text": [
      "0 datas inválidas foram convertidas para NaT.\n"
     ]
    }
   ],
   "source": [
    "# Verificar se houve conversão para NaT\n",
    "print(df['DT_NASCIMENTO'].isna().sum(), \"datas inválidas foram convertidas para NaT.\")"
   ]
  },
  {
   "cell_type": "code",
   "execution_count": 19,
   "id": "3a2ed1f3-ad9a-4476-8876-f97963e12fb3",
   "metadata": {},
   "outputs": [],
   "source": [
    "today = pd.to_datetime('today')\n",
    "df['IDADE'] = today.year - df['DT_NASCIMENTO'].dt.year - (\n",
    "    (df['DT_NASCIMENTO'].dt.month > today.month) | \n",
    "    ((df['DT_NASCIMENTO'].dt.month == today.month) & (df['DT_NASCIMENTO'].dt.day > today.day))\n",
    ")"
   ]
  },
  {
   "cell_type": "code",
   "execution_count": 20,
   "id": "ecbcb440-4d52-4e10-baf6-8699c5f9a59d",
   "metadata": {},
   "outputs": [
    {
     "name": "stdout",
     "output_type": "stream",
     "text": [
      "A média de idade dos candidatos é: 48.06 anos\n"
     ]
    }
   ],
   "source": [
    "# Calcular a média de idade\n",
    "media_idade = df['IDADE'].mean()\n",
    "print(f'A média de idade dos candidatos é: {media_idade:.2f} anos')"
   ]
  },
  {
   "cell_type": "markdown",
   "id": "12fc0e7e-ab8b-467a-ad4f-1902e5f672a0",
   "metadata": {},
   "source": [
    "### 💼 Profissões"
   ]
  },
  {
   "cell_type": "code",
   "execution_count": 21,
   "id": "4a79f899-1c89-46bc-9b0a-a0c48713e98a",
   "metadata": {
    "scrolled": true
   },
   "outputs": [
    {
     "data": {
      "text/plain": [
       "DS_OCUPACAO\n",
       "VEREADOR                                                                  4623\n",
       "OUTROS                                                                    3170\n",
       "EMPRESÁRIO                                                                2964\n",
       "SERVIDOR PÚBLICO MUNICIPAL                                                2235\n",
       "AGRICULTOR                                                                2230\n",
       "PREFEITO                                                                  1679\n",
       "COMERCIANTE                                                               1121\n",
       "ADVOGADO                                                                  1030\n",
       "APOSENTADO (EXCETO SERVIDOR PÚBLICO)                                       690\n",
       "ADMINISTRADOR                                                              630\n",
       "PROFESSOR DE ENSINO FUNDAMENTAL                                            613\n",
       "MÉDICO                                                                     451\n",
       "PRODUTOR AGROPECUÁRIO                                                      386\n",
       "PROFESSOR DE ENSINO MÉDIO                                                  369\n",
       "SERVIDOR PÚBLICO ESTADUAL                                                  344\n",
       "ENFERMEIRO                                                                 290\n",
       "PECUARISTA                                                                 288\n",
       "TRABALHADOR RURAL                                                          284\n",
       "ENGENHEIRO                                                                 270\n",
       "MOTORISTA DE VEÍCULOS DE TRANSPORTE COLETIVO DE PASSAGEIROS                268\n",
       "CONTADOR                                                                   182\n",
       "MOTORISTA DE VEÍCULOS DE TRANSPORTE DE CARGA                               175\n",
       "MOTORISTA PARTICULAR                                                       159\n",
       "TÉCNICO DE ENFERMAGEM E ASSEMELHADOS (EXCETO ENFERMEIRO)                   157\n",
       "ODONTÓLOGO                                                                 157\n",
       "ESTUDANTE, BOLSISTA, ESTAGIÁRIO E ASSEMELHADOS                             148\n",
       "PEDAGOGO                                                                   141\n",
       "ASSISTENTE SOCIAL                                                          139\n",
       "AGENTE ADMINISTRATIVO                                                      138\n",
       "FARMACÊUTICO                                                               129\n",
       "DONA DE CASA                                                               124\n",
       "POLICIAL MILITAR                                                           116\n",
       "CABELEIREIRO E BARBEIRO                                                    116\n",
       "AGENTE DE SAÚDE E SANITARISTA                                              109\n",
       "VETERINÁRIO                                                                104\n",
       "GERENTE                                                                    103\n",
       "VENDEDOR DE COMÉRCIO VAREJISTA E ATACADISTA                                101\n",
       "TRABALHADOR DE CONSTRUÇÃO CIVIL                                             99\n",
       "MECÂNICO DE MANUTENÇÃO                                                      96\n",
       "SERVIDOR PÚBLICO CIVIL APOSENTADO                                           94\n",
       "AUXILIAR DE ESCRITÓRIO E ASSEMELHADOS                                       91\n",
       "PESCADOR                                                                    88\n",
       "FISIOTERAPEUTA E TERAPEUTA OCUPACIONAL                                      88\n",
       "CORRETOR DE IMÓVEIS, SEGUROS, TÍTULOS E VALORES                             87\n",
       "PROFESSOR DE ENSINO DE PRIMEIRO E SEGUNDO GRAUS                             77\n",
       "ELETRICISTA E ASSEMELHADOS                                                  75\n",
       "PROFESSOR DE ENSINO SUPERIOR                                                71\n",
       "AGRÔNOMO                                                                    67\n",
       "PSICÓLOGO                                                                   61\n",
       "VIGILANTE                                                                   60\n",
       "SERVIDOR PÚBLICO FEDERAL                                                    60\n",
       "JORNALISTA E REDATOR                                                        59\n",
       "VENDEDOR PRACISTA, REPRESENTANTE, CAIXEIRO-VIAJANTE E ASSEMELHADOS          59\n",
       "POLICIAL CIVIL                                                              57\n",
       "TÉCNICO EM AGRONOMIA E AGRIMENSURA                                          55\n",
       "COMERCIÁRIO                                                                 51\n",
       "REPRESENTANTE COMERCIAL                                                     49\n",
       "OCUPANTE DE CARGO EM COMISSÃO                                               48\n",
       "MILITAR REFORMADO                                                           47\n",
       "LOCUTOR E COMENTARISTA DE RÁDIO E TELEVISÃO E RADIALISTA                    45\n",
       "PROFESSOR E INSTRUTOR DE FORMAÇÃO PROFISSIONAL                              42\n",
       "CARPINTEIRO, MARCENEIRO E ASSEMELHADOS                                      39\n",
       "BANCÁRIO E ECONOMIÁRIO                                                      39\n",
       "TAXISTA                                                                     36\n",
       "DEPUTADO                                                                    30\n",
       "DIRETOR DE ESTABELECIMENTO DE ENSINO                                        30\n",
       "SACERDOTE OU MEMBRO DE ORDEM OU SEITA RELIGIOSA                             29\n",
       "TÉCNICO CONTABILIDADE, ESTATÍSTICA, ECONOMIA DOMÉSTICA E ADMINISTRAÇÃO      28\n",
       "ECONOMISTA                                                                  27\n",
       "SERRALHEIRO                                                                 26\n",
       "ARQUITETO                                                                   25\n",
       "TÉCNICO DE ELETRICIDADE, ELETRÔNICA E TELECOMUNICAÇÕES                      24\n",
       "OPERADOR DE IMPLEMENTO DE AGRICULTURA, PECUÁRIA E EXPLORAÇÃO FLORESTAL      24\n",
       "OPERADOR DE APARELHOS DE PRODUÇÃO INDUSTRIAL                                24\n",
       "FISCAL                                                                      23\n",
       "DESPACHANTE                                                                 23\n",
       "MÚSICO                                                                      22\n",
       "SUPERVISOR, INSPETOR E AGENTE DE COMPRAS E VENDAS                           22\n",
       "RECEPCIONISTA                                                               21\n",
       "INDUSTRIAL                                                                  19\n",
       "FRENTISTA                                                                   19\n",
       "NUTRICIONISTA E ASSEMELHADOS                                                17\n",
       "BIÓLOGO                                                                     16\n",
       "ANALISTA DE SISTEMAS                                                        15\n",
       "TÉCNICO EM INFORMÁTICA                                                      15\n",
       "PADEIRO, CONFEITEIRO E ASSEMELHADOS                                         15\n",
       "PUBLICITÁRIO                                                                14\n",
       "TÉCNICO DE LABORATÓRIO E RAIOS X                                            14\n",
       "SECRETÁRIO,ESTENÓGRAFO,DATILÓGRAFO,RECEPCIONISTA,TELEFONISTA,TAQUÍGRAF      13\n",
       "DIRETOR DE EMPRESAS                                                         11\n",
       "CANTOR E COMPOSITOR                                                         11\n",
       "CABELEIREIRO, BARBEIRO, MANICURE, MAQUILADOR, ESTETICISTA E MASSAGISTA      10\n",
       "FUNILEIRO                                                                   10\n",
       "ZOOTECNISTA                                                                 10\n",
       "ESTETICISTA                                                                 10\n",
       "AGENTE POSTAL                                                               10\n",
       "BIOMÉDICO                                                                   10\n",
       "ATLETA PROFISSIONAL E TÉCNICO EM DESPORTOS                                   9\n",
       "SERVENTUÁRIO DE JUSTIÇA                                                      9\n",
       "TÉCNICO EM EDIFICAÇÕES                                                       9\n",
       "MOTOBOY                                                                      9\n",
       "BOMBEIRO MILITAR                                                             9\n",
       "JARDINEIRO                                                                   8\n",
       "COZINHEIRO                                                                   8\n",
       "TÉCNICO DE MECÂNICA                                                          8\n",
       "FOTÓGRAFO E ASSEMELHADOS                                                     8\n",
       "TÉCNICO DE OBRAS CIVIS, ESTRADAS, SANEAMENTO E ASSEMELHADOS                  7\n",
       "FONOAUDIÓLOGO                                                                7\n",
       "HISTORIADOR                                                                  6\n",
       "MANICURE E MAQUILADOR                                                        6\n",
       "SENADOR, DEPUTADO E VEREADOR                                                 6\n",
       "SECRETÁRIO E DATILÓGRAFO                                                     6\n",
       "ALMOXARIFE                                                                   6\n",
       "DIGITADOR                                                                    6\n",
       "SOCIÓLOGO                                                                    6\n",
       "TRABALHADOR METALÚRGICO E SIDERÚRGICO                                        5\n",
       "PRODUTOR DE ESPETÁCULOS PÚBLICOS                                             5\n",
       "FEIRANTE, AMBULANTE E MASCATE                                                5\n",
       "TERAPEUTA                                                                    5\n",
       "MEMBRO DAS FORÇAS ARMADAS                                                    5\n",
       "TORNEIRO MECÂNICO                                                            5\n",
       "GARI OU LIXEIRO                                                              5\n",
       "LEITURISTA                                                                   5\n",
       "ARTESÃO                                                                      4\n",
       "GARIMPEIRO                                                                   4\n",
       "ESCRITOR E CRÍTICO                                                           4\n",
       "PILOTO DE AVIAÇÃO COMERCIAL, NAVEGADOR, MECÂNICO DE VÔO E ASSEMELHADOS       4\n",
       "AGENTE DE SERVIÇOS FUNERÁRIOS E EMBALSAMADOR                                 4\n",
       "GEÓGRAFO                                                                     4\n",
       "FAXINEIRO                                                                    4\n",
       "TABELIÃO                                                                     4\n",
       "CIENTISTA POLÍTICO                                                           4\n",
       "PROTÉTICO                                                                    4\n",
       "TÉCNICO DE MINERAÇÃO, METALURGIA E GEOLOGIA                                  3\n",
       "PROGRAMADOR DE COMPUTADOR                                                    3\n",
       "AGENTE DE VIAGEM                                                             3\n",
       "ESTIVADOR, CARREGADOR, EMBALADOR E ASSEMELHADOS                              3\n",
       "DESENHISTA                                                                   3\n",
       "RELAÇÕES-PÚBLICAS                                                            3\n",
       "TÉCNICO DE QUÍMICA                                                           3\n",
       "ENCANADOR, SOLDADOR, CHAPEADOR E CALDEIREIRO                                 3\n",
       "EMPREGADO DOMÉSTICO                                                          3\n",
       "CERAMISTA E OLEIRO                                                           3\n",
       "LAVADOR DE VEÍCULOS                                                          3\n",
       "LEILOEIRO, AVALIADOR E ASSEMELHADOS                                          3\n",
       "ANTROPÓLOGO                                                                  2\n",
       "PORTEIRO DE EDIFÍCIO, ASCENSORISTA, GARAGISTA E ZELADOR                      2\n",
       "AGENTE DE VIAGEM E GUIA DE TURISMO                                           2\n",
       "GARÇOM                                                                       2\n",
       "BIÓLOGO E BIOMÉDICO                                                          2\n",
       "SENADOR                                                                      2\n",
       "OPERADOR DE EQUIPAMENTO DE RÁDIO, TELEVISÃO, SOM E CINEMA                    2\n",
       "TAPECEIRO                                                                    2\n",
       "MARINHEIRO CIVIL, CANOEIRO, EMBARCADO E ASSEMELHADOS                         2\n",
       "ESCULTOR, PINTOR, ARTISTA PLÁSTICO E ASSEMELHADOS                            2\n",
       "DECORADOR                                                                    2\n",
       "AGENCIADOR DE PROPAGANDA                                                     2\n",
       "LANTERNEIRO E PINTOR DE VEÍCULOS                                             2\n",
       "ALFAIATE E COSTUREIRO                                                        2\n",
       "TRABALHADOR DE FABRICAÇÃO DE ROUPAS                                          2\n",
       "SALVA-VIDAS                                                                  2\n",
       "ESCULTOR E PINTOR                                                            2\n",
       "MASSAGISTA                                                                   2\n",
       "MONTADOR DE ESTRUTURA METÁLICA                                               2\n",
       "TRABALHADOR DOS SERVIÇOS DE CONTABILIDADE, DE CAIXA E ASSEMELHADOS           2\n",
       "BOMBEIRO CIVIL                                                               2\n",
       "COMANDANTE DE EMBARCAÇÕES                                                    2\n",
       "PRESIDENTE DA REPÚBLICA, MINISTRO DE ESTADO, GOVERNADOR E PREFEITO           2\n",
       "TRABALHADOR DE FABRICAÇÃO DE CALÇADOS E ARTEFATOS DE COURO                   2\n",
       "COBRADOR DE TRANSPORTE COLETIVO                                              1\n",
       "CAPITALISTA DE ATIVOS FINANCEIROS                                            1\n",
       "OPERADOR DE COMPUTADOR                                                       1\n",
       "FERROVIÁRIO                                                                  1\n",
       "SECURITÁRIO                                                                  1\n",
       "TRABALHADOR DE ARTES GRÁFICAS                                                1\n",
       "BOMBEIRO E INSTALADOR DE GÁS, ÁGUA, ESGOTO E ASSEMELHADOS                    1\n",
       "TRABALHADOR EM ATIVIDADE DE PROCESSAMENTO QUÍMICO                            1\n",
       "TRABALHADOR DE FABRICAÇÃO E PREPARAÇÃO DE ALIMENTOS E BEBIDAS                1\n",
       "SERVIDOR DA JUSTIÇA ELEITORAL                                                1\n",
       "CATADOR DE RECICLÁVEIS                                                       1\n",
       "OPERADOR DE EQUIPAMENTO MÉDICO E ODONTOLÓGICO                                1\n",
       "EMBALADOR, EMPACOTADOR E ASSEMELHADOS                                        1\n",
       "TRABALHADOR DE FABRICAÇÃO DE PRODUTOS DE BORRACHA E PLÁSTICO                 1\n",
       "COMUNICÓLOGO                                                                 1\n",
       "TAXISTA E MOTORISTA PARTICULAR                                               1\n",
       "ATENDENTE DE LANCHONETE E RESTAURANTE                                        1\n",
       "COREÓGRAFO E BAILARINO                                                       1\n",
       "BIBLIOTECÁRIO                                                                1\n",
       "TRABALHADOR DE USINAGEM DE METAIS                                            1\n",
       "ESTOFADOR                                                                    1\n",
       "CHAVEIRO                                                                     1\n",
       "MODELO                                                                       1\n",
       "ESTIVADOR, CARREGADOR E ASSEMELHADOS                                         1\n",
       "DETETIVE PARTICULAR                                                          1\n",
       "Name: count, dtype: int64"
      ]
     },
     "execution_count": 21,
     "metadata": {},
     "output_type": "execute_result"
    }
   ],
   "source": [
    "df[\"DS_OCUPACAO\"].value_counts()"
   ]
  },
  {
   "cell_type": "markdown",
   "id": "9c83ecf4-4196-40b6-a6fb-6ed1de70dbca",
   "metadata": {},
   "source": [
    "### 📖 Instrução"
   ]
  },
  {
   "cell_type": "code",
   "execution_count": 22,
   "id": "50a66c3e-464e-4ec3-a070-45978a090a6b",
   "metadata": {},
   "outputs": [
    {
     "data": {
      "text/plain": [
       "array(['SUPERIOR COMPLETO', 'ENSINO MÉDIO INCOMPLETO',\n",
       "       'ENSINO FUNDAMENTAL INCOMPLETO', 'ENSINO MÉDIO COMPLETO',\n",
       "       'SUPERIOR INCOMPLETO', 'ENSINO FUNDAMENTAL COMPLETO',\n",
       "       'LÊ E ESCREVE'], dtype=object)"
      ]
     },
     "execution_count": 22,
     "metadata": {},
     "output_type": "execute_result"
    }
   ],
   "source": [
    "df[\"DS_GRAU_INSTRUCAO\"].unique() #me mostre o que tem"
   ]
  },
  {
   "cell_type": "code",
   "execution_count": 23,
   "id": "0968930a-3507-4370-a1d9-a2589d7d2560",
   "metadata": {},
   "outputs": [
    {
     "data": {
      "text/plain": [
       "DS_GRAU_INSTRUCAO\n",
       "SUPERIOR COMPLETO                41.920310\n",
       "ENSINO MÉDIO COMPLETO            33.830243\n",
       "ENSINO FUNDAMENTAL COMPLETO       8.899419\n",
       "ENSINO FUNDAMENTAL INCOMPLETO     7.661179\n",
       "SUPERIOR INCOMPLETO               3.846154\n",
       "ENSINO MÉDIO INCOMPLETO           2.825816\n",
       "LÊ E ESCREVE                      1.016879\n",
       "Name: proportion, dtype: float64"
      ]
     },
     "execution_count": 23,
     "metadata": {},
     "output_type": "execute_result"
    }
   ],
   "source": [
    "df[\"DS_GRAU_INSTRUCAO\"].value_counts(normalize=True) * 100"
   ]
  },
  {
   "cell_type": "markdown",
   "id": "7d8cef19-ed34-4c61-8ee6-cad2bfa0671f",
   "metadata": {},
   "source": [
    "### 💍Estado civil"
   ]
  },
  {
   "cell_type": "code",
   "execution_count": 24,
   "id": "b80464b1-0cdb-4ab0-b9ab-34ff187a9307",
   "metadata": {},
   "outputs": [
    {
     "data": {
      "text/plain": [
       "array(['DIVORCIADO(A)', 'CASADO(A)', 'SOLTEIRO(A)', 'VIÚVO(A)',\n",
       "       'SEPARADO(A) JUDICIALMENTE'], dtype=object)"
      ]
     },
     "execution_count": 24,
     "metadata": {},
     "output_type": "execute_result"
    }
   ],
   "source": [
    "df[\"DS_ESTADO_CIVIL\"].unique() #me mostre o que tem"
   ]
  },
  {
   "cell_type": "code",
   "execution_count": 25,
   "id": "58b06439-c559-4bf1-b5d6-33aebad0a292",
   "metadata": {},
   "outputs": [
    {
     "data": {
      "text/plain": [
       "DS_ESTADO_CIVIL\n",
       "CASADO(A)                    63.969978\n",
       "SOLTEIRO(A)                  26.656752\n",
       "DIVORCIADO(A)                 7.221915\n",
       "VIÚVO(A)                      1.528777\n",
       "SEPARADO(A) JUDICIALMENTE     0.622579\n",
       "Name: proportion, dtype: float64"
      ]
     },
     "execution_count": 25,
     "metadata": {},
     "output_type": "execute_result"
    }
   ],
   "source": [
    "df[\"DS_ESTADO_CIVIL\"].value_counts(normalize=True) * 100"
   ]
  },
  {
   "cell_type": "markdown",
   "id": "c76fc85e-24f3-49f7-9221-177c69fc1b9f",
   "metadata": {},
   "source": [
    "### 🗺️ Estados com mais candidatos"
   ]
  },
  {
   "cell_type": "code",
   "execution_count": 26,
   "id": "5b91f57a-620b-42f0-b455-4a4f0851c858",
   "metadata": {},
   "outputs": [
    {
     "data": {
      "text/plain": [
       "SG_UF\n",
       "MG    4769\n",
       "SP    4010\n",
       "RS    2378\n",
       "PR    2245\n",
       "BA    2059\n",
       "SC    1529\n",
       "GO    1254\n",
       "MA    1046\n",
       "PE     863\n",
       "PB     860\n",
       "PA     855\n",
       "PI     854\n",
       "CE     836\n",
       "MT     775\n",
       "RN     645\n",
       "RJ     621\n",
       "TO     619\n",
       "ES     500\n",
       "MS     444\n",
       "AL     422\n",
       "AM     371\n",
       "SE     339\n",
       "RO     308\n",
       "AC     132\n",
       "AP      97\n",
       "RR      81\n",
       "Name: count, dtype: int64"
      ]
     },
     "execution_count": 26,
     "metadata": {},
     "output_type": "execute_result"
    }
   ],
   "source": [
    "# Estados com mais candidatos\n",
    "df[\"SG_UF\"].value_counts() #sum function"
   ]
  }
 ],
 "metadata": {
  "kernelspec": {
   "display_name": "Python 3 (ipykernel)",
   "language": "python",
   "name": "python3"
  },
  "language_info": {
   "codemirror_mode": {
    "name": "ipython",
    "version": 3
   },
   "file_extension": ".py",
   "mimetype": "text/x-python",
   "name": "python",
   "nbconvert_exporter": "python",
   "pygments_lexer": "ipython3",
   "version": "3.12.3"
  }
 },
 "nbformat": 4,
 "nbformat_minor": 5
}

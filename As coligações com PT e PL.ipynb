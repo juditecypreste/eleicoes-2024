{
 "cells": [
  {
   "cell_type": "markdown",
   "id": "284a4115-e450-43db-9a60-f1593579a1dc",
   "metadata": {},
   "source": [
    "## Código utilizado para análise de dados da reportagem: [Eleições 2024: PT e PL estão no mesmo palanque de candidatos a prefeito em 85 cidades no país](https://g1.globo.com/politica/eleicoes/2024/eleicao-em-numeros/noticia/2024/08/16/eleicoes-2024-pt-e-pl-pelo-pais.ghtml)"
   ]
  },
  {
   "cell_type": "code",
   "execution_count": 1,
   "id": "09b3fd1d",
   "metadata": {},
   "outputs": [],
   "source": [
    "# Importa as bibliotecas necessárias para a análise\n",
    "import pandas as pd"
   ]
  },
  {
   "cell_type": "code",
   "execution_count": 2,
   "id": "2ddd39b3",
   "metadata": {},
   "outputs": [],
   "source": [
    "# Me mostre tudo\n",
    "pd.set_option('display.max_rows', None)\n",
    "pd.set_option('display.max_columns', None)"
   ]
  },
  {
   "cell_type": "code",
   "execution_count": 5,
   "id": "c65b29da",
   "metadata": {},
   "outputs": [
    {
     "name": "stderr",
     "output_type": "stream",
     "text": [
      "<>:2: SyntaxWarning: invalid escape sequence '\\c'\n",
      "<>:2: SyntaxWarning: invalid escape sequence '\\c'\n",
      "C:\\Users\\judite\\AppData\\Local\\Temp\\ipykernel_1284\\2737666020.py:2: SyntaxWarning: invalid escape sequence '\\c'\n",
      "  df = pd.read_csv(\"data\\consulta_cand_2024_BRASIL.csv\", delimiter =';', encoding='latin-1')\n",
      "C:\\Users\\judite\\AppData\\Local\\Temp\\ipykernel_1284\\2737666020.py:2: SyntaxWarning: invalid escape sequence '\\c'\n",
      "  df = pd.read_csv(\"data\\consulta_cand_2024_BRASIL.csv\", delimiter =';', encoding='latin-1')\n"
     ]
    },
    {
     "ename": "FileNotFoundError",
     "evalue": "[Errno 2] No such file or directory: 'data\\\\consulta_cand_2024_BRASIL.csv'",
     "output_type": "error",
     "traceback": [
      "\u001b[1;31m---------------------------------------------------------------------------\u001b[0m",
      "\u001b[1;31mFileNotFoundError\u001b[0m                         Traceback (most recent call last)",
      "Cell \u001b[1;32mIn[5], line 2\u001b[0m\n\u001b[0;32m      1\u001b[0m \u001b[38;5;66;03m# Lê os dados do arquivo CSV contendo informações eleitorais\u001b[39;00m\n\u001b[1;32m----> 2\u001b[0m df \u001b[38;5;241m=\u001b[39m \u001b[43mpd\u001b[49m\u001b[38;5;241;43m.\u001b[39;49m\u001b[43mread_csv\u001b[49m\u001b[43m(\u001b[49m\u001b[38;5;124;43m\"\u001b[39;49m\u001b[38;5;124;43mdata\u001b[39;49m\u001b[38;5;124;43m\\\u001b[39;49m\u001b[38;5;124;43mconsulta_cand_2024_BRASIL.csv\u001b[39;49m\u001b[38;5;124;43m\"\u001b[39;49m\u001b[43m,\u001b[49m\u001b[43m \u001b[49m\u001b[43mdelimiter\u001b[49m\u001b[43m \u001b[49m\u001b[38;5;241;43m=\u001b[39;49m\u001b[38;5;124;43m'\u001b[39;49m\u001b[38;5;124;43m;\u001b[39;49m\u001b[38;5;124;43m'\u001b[39;49m\u001b[43m,\u001b[49m\u001b[43m \u001b[49m\u001b[43mencoding\u001b[49m\u001b[38;5;241;43m=\u001b[39;49m\u001b[38;5;124;43m'\u001b[39;49m\u001b[38;5;124;43mlatin-1\u001b[39;49m\u001b[38;5;124;43m'\u001b[39;49m\u001b[43m)\u001b[49m\n",
      "File \u001b[1;32m~\\AppData\\Local\\Programs\\Python\\Python312\\Lib\\site-packages\\pandas\\io\\parsers\\readers.py:1026\u001b[0m, in \u001b[0;36mread_csv\u001b[1;34m(filepath_or_buffer, sep, delimiter, header, names, index_col, usecols, dtype, engine, converters, true_values, false_values, skipinitialspace, skiprows, skipfooter, nrows, na_values, keep_default_na, na_filter, verbose, skip_blank_lines, parse_dates, infer_datetime_format, keep_date_col, date_parser, date_format, dayfirst, cache_dates, iterator, chunksize, compression, thousands, decimal, lineterminator, quotechar, quoting, doublequote, escapechar, comment, encoding, encoding_errors, dialect, on_bad_lines, delim_whitespace, low_memory, memory_map, float_precision, storage_options, dtype_backend)\u001b[0m\n\u001b[0;32m   1013\u001b[0m kwds_defaults \u001b[38;5;241m=\u001b[39m _refine_defaults_read(\n\u001b[0;32m   1014\u001b[0m     dialect,\n\u001b[0;32m   1015\u001b[0m     delimiter,\n\u001b[1;32m   (...)\u001b[0m\n\u001b[0;32m   1022\u001b[0m     dtype_backend\u001b[38;5;241m=\u001b[39mdtype_backend,\n\u001b[0;32m   1023\u001b[0m )\n\u001b[0;32m   1024\u001b[0m kwds\u001b[38;5;241m.\u001b[39mupdate(kwds_defaults)\n\u001b[1;32m-> 1026\u001b[0m \u001b[38;5;28;01mreturn\u001b[39;00m \u001b[43m_read\u001b[49m\u001b[43m(\u001b[49m\u001b[43mfilepath_or_buffer\u001b[49m\u001b[43m,\u001b[49m\u001b[43m \u001b[49m\u001b[43mkwds\u001b[49m\u001b[43m)\u001b[49m\n",
      "File \u001b[1;32m~\\AppData\\Local\\Programs\\Python\\Python312\\Lib\\site-packages\\pandas\\io\\parsers\\readers.py:620\u001b[0m, in \u001b[0;36m_read\u001b[1;34m(filepath_or_buffer, kwds)\u001b[0m\n\u001b[0;32m    617\u001b[0m _validate_names(kwds\u001b[38;5;241m.\u001b[39mget(\u001b[38;5;124m\"\u001b[39m\u001b[38;5;124mnames\u001b[39m\u001b[38;5;124m\"\u001b[39m, \u001b[38;5;28;01mNone\u001b[39;00m))\n\u001b[0;32m    619\u001b[0m \u001b[38;5;66;03m# Create the parser.\u001b[39;00m\n\u001b[1;32m--> 620\u001b[0m parser \u001b[38;5;241m=\u001b[39m \u001b[43mTextFileReader\u001b[49m\u001b[43m(\u001b[49m\u001b[43mfilepath_or_buffer\u001b[49m\u001b[43m,\u001b[49m\u001b[43m \u001b[49m\u001b[38;5;241;43m*\u001b[39;49m\u001b[38;5;241;43m*\u001b[39;49m\u001b[43mkwds\u001b[49m\u001b[43m)\u001b[49m\n\u001b[0;32m    622\u001b[0m \u001b[38;5;28;01mif\u001b[39;00m chunksize \u001b[38;5;129;01mor\u001b[39;00m iterator:\n\u001b[0;32m    623\u001b[0m     \u001b[38;5;28;01mreturn\u001b[39;00m parser\n",
      "File \u001b[1;32m~\\AppData\\Local\\Programs\\Python\\Python312\\Lib\\site-packages\\pandas\\io\\parsers\\readers.py:1620\u001b[0m, in \u001b[0;36mTextFileReader.__init__\u001b[1;34m(self, f, engine, **kwds)\u001b[0m\n\u001b[0;32m   1617\u001b[0m     \u001b[38;5;28mself\u001b[39m\u001b[38;5;241m.\u001b[39moptions[\u001b[38;5;124m\"\u001b[39m\u001b[38;5;124mhas_index_names\u001b[39m\u001b[38;5;124m\"\u001b[39m] \u001b[38;5;241m=\u001b[39m kwds[\u001b[38;5;124m\"\u001b[39m\u001b[38;5;124mhas_index_names\u001b[39m\u001b[38;5;124m\"\u001b[39m]\n\u001b[0;32m   1619\u001b[0m \u001b[38;5;28mself\u001b[39m\u001b[38;5;241m.\u001b[39mhandles: IOHandles \u001b[38;5;241m|\u001b[39m \u001b[38;5;28;01mNone\u001b[39;00m \u001b[38;5;241m=\u001b[39m \u001b[38;5;28;01mNone\u001b[39;00m\n\u001b[1;32m-> 1620\u001b[0m \u001b[38;5;28mself\u001b[39m\u001b[38;5;241m.\u001b[39m_engine \u001b[38;5;241m=\u001b[39m \u001b[38;5;28;43mself\u001b[39;49m\u001b[38;5;241;43m.\u001b[39;49m\u001b[43m_make_engine\u001b[49m\u001b[43m(\u001b[49m\u001b[43mf\u001b[49m\u001b[43m,\u001b[49m\u001b[43m \u001b[49m\u001b[38;5;28;43mself\u001b[39;49m\u001b[38;5;241;43m.\u001b[39;49m\u001b[43mengine\u001b[49m\u001b[43m)\u001b[49m\n",
      "File \u001b[1;32m~\\AppData\\Local\\Programs\\Python\\Python312\\Lib\\site-packages\\pandas\\io\\parsers\\readers.py:1880\u001b[0m, in \u001b[0;36mTextFileReader._make_engine\u001b[1;34m(self, f, engine)\u001b[0m\n\u001b[0;32m   1878\u001b[0m     \u001b[38;5;28;01mif\u001b[39;00m \u001b[38;5;124m\"\u001b[39m\u001b[38;5;124mb\u001b[39m\u001b[38;5;124m\"\u001b[39m \u001b[38;5;129;01mnot\u001b[39;00m \u001b[38;5;129;01min\u001b[39;00m mode:\n\u001b[0;32m   1879\u001b[0m         mode \u001b[38;5;241m+\u001b[39m\u001b[38;5;241m=\u001b[39m \u001b[38;5;124m\"\u001b[39m\u001b[38;5;124mb\u001b[39m\u001b[38;5;124m\"\u001b[39m\n\u001b[1;32m-> 1880\u001b[0m \u001b[38;5;28mself\u001b[39m\u001b[38;5;241m.\u001b[39mhandles \u001b[38;5;241m=\u001b[39m \u001b[43mget_handle\u001b[49m\u001b[43m(\u001b[49m\n\u001b[0;32m   1881\u001b[0m \u001b[43m    \u001b[49m\u001b[43mf\u001b[49m\u001b[43m,\u001b[49m\n\u001b[0;32m   1882\u001b[0m \u001b[43m    \u001b[49m\u001b[43mmode\u001b[49m\u001b[43m,\u001b[49m\n\u001b[0;32m   1883\u001b[0m \u001b[43m    \u001b[49m\u001b[43mencoding\u001b[49m\u001b[38;5;241;43m=\u001b[39;49m\u001b[38;5;28;43mself\u001b[39;49m\u001b[38;5;241;43m.\u001b[39;49m\u001b[43moptions\u001b[49m\u001b[38;5;241;43m.\u001b[39;49m\u001b[43mget\u001b[49m\u001b[43m(\u001b[49m\u001b[38;5;124;43m\"\u001b[39;49m\u001b[38;5;124;43mencoding\u001b[39;49m\u001b[38;5;124;43m\"\u001b[39;49m\u001b[43m,\u001b[49m\u001b[43m \u001b[49m\u001b[38;5;28;43;01mNone\u001b[39;49;00m\u001b[43m)\u001b[49m\u001b[43m,\u001b[49m\n\u001b[0;32m   1884\u001b[0m \u001b[43m    \u001b[49m\u001b[43mcompression\u001b[49m\u001b[38;5;241;43m=\u001b[39;49m\u001b[38;5;28;43mself\u001b[39;49m\u001b[38;5;241;43m.\u001b[39;49m\u001b[43moptions\u001b[49m\u001b[38;5;241;43m.\u001b[39;49m\u001b[43mget\u001b[49m\u001b[43m(\u001b[49m\u001b[38;5;124;43m\"\u001b[39;49m\u001b[38;5;124;43mcompression\u001b[39;49m\u001b[38;5;124;43m\"\u001b[39;49m\u001b[43m,\u001b[49m\u001b[43m \u001b[49m\u001b[38;5;28;43;01mNone\u001b[39;49;00m\u001b[43m)\u001b[49m\u001b[43m,\u001b[49m\n\u001b[0;32m   1885\u001b[0m \u001b[43m    \u001b[49m\u001b[43mmemory_map\u001b[49m\u001b[38;5;241;43m=\u001b[39;49m\u001b[38;5;28;43mself\u001b[39;49m\u001b[38;5;241;43m.\u001b[39;49m\u001b[43moptions\u001b[49m\u001b[38;5;241;43m.\u001b[39;49m\u001b[43mget\u001b[49m\u001b[43m(\u001b[49m\u001b[38;5;124;43m\"\u001b[39;49m\u001b[38;5;124;43mmemory_map\u001b[39;49m\u001b[38;5;124;43m\"\u001b[39;49m\u001b[43m,\u001b[49m\u001b[43m \u001b[49m\u001b[38;5;28;43;01mFalse\u001b[39;49;00m\u001b[43m)\u001b[49m\u001b[43m,\u001b[49m\n\u001b[0;32m   1886\u001b[0m \u001b[43m    \u001b[49m\u001b[43mis_text\u001b[49m\u001b[38;5;241;43m=\u001b[39;49m\u001b[43mis_text\u001b[49m\u001b[43m,\u001b[49m\n\u001b[0;32m   1887\u001b[0m \u001b[43m    \u001b[49m\u001b[43merrors\u001b[49m\u001b[38;5;241;43m=\u001b[39;49m\u001b[38;5;28;43mself\u001b[39;49m\u001b[38;5;241;43m.\u001b[39;49m\u001b[43moptions\u001b[49m\u001b[38;5;241;43m.\u001b[39;49m\u001b[43mget\u001b[49m\u001b[43m(\u001b[49m\u001b[38;5;124;43m\"\u001b[39;49m\u001b[38;5;124;43mencoding_errors\u001b[39;49m\u001b[38;5;124;43m\"\u001b[39;49m\u001b[43m,\u001b[49m\u001b[43m \u001b[49m\u001b[38;5;124;43m\"\u001b[39;49m\u001b[38;5;124;43mstrict\u001b[39;49m\u001b[38;5;124;43m\"\u001b[39;49m\u001b[43m)\u001b[49m\u001b[43m,\u001b[49m\n\u001b[0;32m   1888\u001b[0m \u001b[43m    \u001b[49m\u001b[43mstorage_options\u001b[49m\u001b[38;5;241;43m=\u001b[39;49m\u001b[38;5;28;43mself\u001b[39;49m\u001b[38;5;241;43m.\u001b[39;49m\u001b[43moptions\u001b[49m\u001b[38;5;241;43m.\u001b[39;49m\u001b[43mget\u001b[49m\u001b[43m(\u001b[49m\u001b[38;5;124;43m\"\u001b[39;49m\u001b[38;5;124;43mstorage_options\u001b[39;49m\u001b[38;5;124;43m\"\u001b[39;49m\u001b[43m,\u001b[49m\u001b[43m \u001b[49m\u001b[38;5;28;43;01mNone\u001b[39;49;00m\u001b[43m)\u001b[49m\u001b[43m,\u001b[49m\n\u001b[0;32m   1889\u001b[0m \u001b[43m\u001b[49m\u001b[43m)\u001b[49m\n\u001b[0;32m   1890\u001b[0m \u001b[38;5;28;01massert\u001b[39;00m \u001b[38;5;28mself\u001b[39m\u001b[38;5;241m.\u001b[39mhandles \u001b[38;5;129;01mis\u001b[39;00m \u001b[38;5;129;01mnot\u001b[39;00m \u001b[38;5;28;01mNone\u001b[39;00m\n\u001b[0;32m   1891\u001b[0m f \u001b[38;5;241m=\u001b[39m \u001b[38;5;28mself\u001b[39m\u001b[38;5;241m.\u001b[39mhandles\u001b[38;5;241m.\u001b[39mhandle\n",
      "File \u001b[1;32m~\\AppData\\Local\\Programs\\Python\\Python312\\Lib\\site-packages\\pandas\\io\\common.py:873\u001b[0m, in \u001b[0;36mget_handle\u001b[1;34m(path_or_buf, mode, encoding, compression, memory_map, is_text, errors, storage_options)\u001b[0m\n\u001b[0;32m    868\u001b[0m \u001b[38;5;28;01melif\u001b[39;00m \u001b[38;5;28misinstance\u001b[39m(handle, \u001b[38;5;28mstr\u001b[39m):\n\u001b[0;32m    869\u001b[0m     \u001b[38;5;66;03m# Check whether the filename is to be opened in binary mode.\u001b[39;00m\n\u001b[0;32m    870\u001b[0m     \u001b[38;5;66;03m# Binary mode does not support 'encoding' and 'newline'.\u001b[39;00m\n\u001b[0;32m    871\u001b[0m     \u001b[38;5;28;01mif\u001b[39;00m ioargs\u001b[38;5;241m.\u001b[39mencoding \u001b[38;5;129;01mand\u001b[39;00m \u001b[38;5;124m\"\u001b[39m\u001b[38;5;124mb\u001b[39m\u001b[38;5;124m\"\u001b[39m \u001b[38;5;129;01mnot\u001b[39;00m \u001b[38;5;129;01min\u001b[39;00m ioargs\u001b[38;5;241m.\u001b[39mmode:\n\u001b[0;32m    872\u001b[0m         \u001b[38;5;66;03m# Encoding\u001b[39;00m\n\u001b[1;32m--> 873\u001b[0m         handle \u001b[38;5;241m=\u001b[39m \u001b[38;5;28;43mopen\u001b[39;49m\u001b[43m(\u001b[49m\n\u001b[0;32m    874\u001b[0m \u001b[43m            \u001b[49m\u001b[43mhandle\u001b[49m\u001b[43m,\u001b[49m\n\u001b[0;32m    875\u001b[0m \u001b[43m            \u001b[49m\u001b[43mioargs\u001b[49m\u001b[38;5;241;43m.\u001b[39;49m\u001b[43mmode\u001b[49m\u001b[43m,\u001b[49m\n\u001b[0;32m    876\u001b[0m \u001b[43m            \u001b[49m\u001b[43mencoding\u001b[49m\u001b[38;5;241;43m=\u001b[39;49m\u001b[43mioargs\u001b[49m\u001b[38;5;241;43m.\u001b[39;49m\u001b[43mencoding\u001b[49m\u001b[43m,\u001b[49m\n\u001b[0;32m    877\u001b[0m \u001b[43m            \u001b[49m\u001b[43merrors\u001b[49m\u001b[38;5;241;43m=\u001b[39;49m\u001b[43merrors\u001b[49m\u001b[43m,\u001b[49m\n\u001b[0;32m    878\u001b[0m \u001b[43m            \u001b[49m\u001b[43mnewline\u001b[49m\u001b[38;5;241;43m=\u001b[39;49m\u001b[38;5;124;43m\"\u001b[39;49m\u001b[38;5;124;43m\"\u001b[39;49m\u001b[43m,\u001b[49m\n\u001b[0;32m    879\u001b[0m \u001b[43m        \u001b[49m\u001b[43m)\u001b[49m\n\u001b[0;32m    880\u001b[0m     \u001b[38;5;28;01melse\u001b[39;00m:\n\u001b[0;32m    881\u001b[0m         \u001b[38;5;66;03m# Binary mode\u001b[39;00m\n\u001b[0;32m    882\u001b[0m         handle \u001b[38;5;241m=\u001b[39m \u001b[38;5;28mopen\u001b[39m(handle, ioargs\u001b[38;5;241m.\u001b[39mmode)\n",
      "\u001b[1;31mFileNotFoundError\u001b[0m: [Errno 2] No such file or directory: 'data\\\\consulta_cand_2024_BRASIL.csv'"
     ]
    }
   ],
   "source": [
    "# Lê os dados do arquivo CSV contendo informações eleitorais\n",
    "df = pd.read_csv(\"data/consulta_cand_2024_BRASIL.csv\", delimiter =';', encoding='latin-1')"
   ]
  },
  {
   "cell_type": "code",
   "execution_count": null,
   "id": "790f871d",
   "metadata": {
    "scrolled": true
   },
   "outputs": [],
   "source": [
    "df.head()"
   ]
  },
  {
   "cell_type": "markdown",
   "id": "1c3cd014-0d65-44e2-bd3f-7926db28b748",
   "metadata": {},
   "source": [
    "### 🧹 Limpando duplicados"
   ]
  },
  {
   "cell_type": "code",
   "execution_count": null,
   "id": "cc83fa67-10ce-4357-a5f2-6ade9b20b5c2",
   "metadata": {},
   "outputs": [],
   "source": [
    "# Checando os duplicados segundo o número de identificação do título de eleitor\n",
    "duplicados = df[df.duplicated(subset='NR_TITULO_ELEITORAL_CANDIDATO', keep=False)]"
   ]
  },
  {
   "cell_type": "code",
   "execution_count": null,
   "id": "dedcaba9-b1ac-4bda-9742-8e1aec13f203",
   "metadata": {},
   "outputs": [],
   "source": [
    "# Apagando duplicados\n",
    "df = df.drop_duplicates(subset='NR_TITULO_ELEITORAL_CANDIDATO')"
   ]
  },
  {
   "cell_type": "markdown",
   "id": "ee53a571-4e61-4cd3-ac7a-f84ed8fae365",
   "metadata": {},
   "source": [
    "### 🗺️ Add código IBGE"
   ]
  },
  {
   "cell_type": "code",
   "execution_count": null,
   "id": "73fa938a-3666-46c6-b480-743840952d2a",
   "metadata": {},
   "outputs": [],
   "source": [
    "# União com o df de códigos do IBGE\n",
    "codigo_ibge = pd.read_csv(\"data/municipios_brasileiros_tse.csv\", delimiter =',', encoding='utf-8')"
   ]
  },
  {
   "cell_type": "code",
   "execution_count": null,
   "id": "2a82558c-b98e-4ef4-a9c5-86f8acfad964",
   "metadata": {},
   "outputs": [],
   "source": [
    "codigo_ibge.head()"
   ]
  },
  {
   "cell_type": "code",
   "execution_count": null,
   "id": "407a1665-5748-44d6-8fa6-d1e049852dcb",
   "metadata": {},
   "outputs": [],
   "source": [
    "df = pd.merge(codigo_ibge, df, left_on='codigo_tse', right_on='SG_UE', how='inner')"
   ]
  },
  {
   "cell_type": "code",
   "execution_count": null,
   "id": "43d91e75-5eb2-4a17-8d7b-cd0b7ffbd3bc",
   "metadata": {},
   "outputs": [],
   "source": [
    "df.head()"
   ]
  },
  {
   "cell_type": "code",
   "execution_count": null,
   "id": "73167734",
   "metadata": {},
   "outputs": [],
   "source": [
    "# Selecionando apenas prefeitos\n",
    "prefeito = df[df[\"CD_CARGO\"] == 11]"
   ]
  },
  {
   "cell_type": "code",
   "execution_count": null,
   "id": "0e4284ce",
   "metadata": {
    "scrolled": true
   },
   "outputs": [],
   "source": [
    "prefeito.head()"
   ]
  },
  {
   "cell_type": "code",
   "execution_count": null,
   "id": "96f37747-bfac-4141-91a6-97187c1acf04",
   "metadata": {
    "scrolled": true
   },
   "outputs": [],
   "source": [
    "prefeito[\"SG_PARTIDO\"].unique()"
   ]
  },
  {
   "cell_type": "markdown",
   "id": "7b2f492a",
   "metadata": {},
   "source": [
    "## 🟥 Análise do Partido dos Trabalhadores (PT)"
   ]
  },
  {
   "cell_type": "code",
   "execution_count": null,
   "id": "f579de55",
   "metadata": {},
   "outputs": [],
   "source": [
    "# Filtra o DataFrame para coligações que contenham o partido específico\n",
    "df_pt = prefeito[\n",
    "    prefeito['DS_COMPOSICAO_COLIGACAO'].str.contains(r'\\bPT\\b', na=False)\n",
    "]"
   ]
  },
  {
   "cell_type": "code",
   "execution_count": null,
   "id": "33413025",
   "metadata": {
    "scrolled": true
   },
   "outputs": [],
   "source": [
    "# Conta a frequência dos valores na coluna especificada\n",
    "frequencias = df_pt[\"TP_AGREMIACAO\"].value_counts()\n",
    "print(frequencias)"
   ]
  },
  {
   "cell_type": "markdown",
   "id": "4e114090-f653-44aa-93a9-7e982ebe0b6e",
   "metadata": {},
   "source": [
    "### ➡️ Coligações com o PT sem o PL"
   ]
  },
  {
   "cell_type": "code",
   "execution_count": null,
   "id": "4756d4cc",
   "metadata": {},
   "outputs": [],
   "source": [
    "# Situações em que aparecem o PT sem o PL:\n",
    "df_PT_SEM_PL = prefeito[\n",
    "    prefeito['DS_COMPOSICAO_COLIGACAO'].str.contains(r'\\bPT\\b', na=False) &\n",
    "    ~prefeito['DS_COMPOSICAO_COLIGACAO'].str.contains(r'\\bPL\\b', na=False)\n",
    "]"
   ]
  },
  {
   "cell_type": "code",
   "execution_count": null,
   "id": "b2a01cc1",
   "metadata": {},
   "outputs": [],
   "source": [
    "frequencias = df_PT_SEM_PL[\"TP_AGREMIACAO\"].value_counts()\n",
    "print(frequencias)"
   ]
  },
  {
   "cell_type": "markdown",
   "id": "1124ecbc",
   "metadata": {},
   "source": [
    "## 🟩 Análise do Partido Liberal (PL)"
   ]
  },
  {
   "cell_type": "code",
   "execution_count": null,
   "id": "399b3508",
   "metadata": {},
   "outputs": [],
   "source": [
    "# Filtra o DataFrame para coligações que contenham o partido específico\n",
    "df_pl = prefeito[\n",
    "    prefeito['DS_COMPOSICAO_COLIGACAO'].str.contains(r'\\bPL\\b', na=False)\n",
    "]"
   ]
  },
  {
   "cell_type": "code",
   "execution_count": null,
   "id": "6b393212",
   "metadata": {},
   "outputs": [],
   "source": [
    "# Conta a frequência dos valores na coluna especificada\n",
    "frequencias = df_pl[\"TP_AGREMIACAO\"].value_counts()\n",
    "print(frequencias)"
   ]
  },
  {
   "cell_type": "markdown",
   "id": "4d1807ce",
   "metadata": {},
   "source": [
    "### ➡️ Coligações com o PL sem o PT"
   ]
  },
  {
   "cell_type": "code",
   "execution_count": null,
   "id": "12ddb78e",
   "metadata": {},
   "outputs": [],
   "source": [
    "# Situações em que aparecem o PL sem o PT:\n",
    "df_PL_SEM_PT = prefeito[\n",
    "    prefeito['DS_COMPOSICAO_COLIGACAO'].str.contains(r'\\bPL\\b', na=False) & \n",
    "    ~prefeito['DS_COMPOSICAO_COLIGACAO'].str.contains(r'\\bPT\\b', na=False)\n",
    "]"
   ]
  },
  {
   "cell_type": "code",
   "execution_count": null,
   "id": "d69caa12",
   "metadata": {},
   "outputs": [],
   "source": [
    "frequencias = df_PL_SEM_PT[\"TP_AGREMIACAO\"].value_counts()\n",
    "print(frequencias)"
   ]
  },
  {
   "cell_type": "markdown",
   "id": "6c9dac39",
   "metadata": {},
   "source": [
    "## 🟩🟥 Coligações com o PT e o PL"
   ]
  },
  {
   "cell_type": "code",
   "execution_count": null,
   "id": "517f9cd1",
   "metadata": {},
   "outputs": [],
   "source": [
    "df_pt_pl = prefeito[\n",
    "    prefeito['DS_COMPOSICAO_COLIGACAO'].str.contains(r'\\bPT\\b', na=False) & \n",
    "    prefeito['DS_COMPOSICAO_COLIGACAO'].str.contains(r'\\bPL\\b', na=False)\n",
    "]"
   ]
  },
  {
   "cell_type": "code",
   "execution_count": null,
   "id": "00df6462",
   "metadata": {},
   "outputs": [],
   "source": [
    "frequencias = df_pt_pl[\"TP_AGREMIACAO\"].value_counts()\n",
    "print(frequencias)"
   ]
  },
  {
   "cell_type": "code",
   "execution_count": null,
   "id": "6d6336ca-313c-4dfd-9d09-ff7dd33eca93",
   "metadata": {
    "scrolled": true
   },
   "outputs": [],
   "source": [
    "df_pt_pl.head()"
   ]
  },
  {
   "cell_type": "code",
   "execution_count": null,
   "id": "47d76fd8-e1f7-4919-9929-ba5e0745e6dd",
   "metadata": {},
   "outputs": [],
   "source": [
    "coligações_ufs = df_pt_pl.groupby([\"SG_UF\"]).count() #sum function"
   ]
  },
  {
   "cell_type": "code",
   "execution_count": null,
   "id": "caafdf7b-e263-47b7-bde2-30068172a88a",
   "metadata": {
    "scrolled": true
   },
   "outputs": [],
   "source": [
    "coligações_ufs"
   ]
  },
  {
   "cell_type": "markdown",
   "id": "2b461a28",
   "metadata": {},
   "source": [
    "### ➡️ Dentre as coligações em que ambos estão, quem é a cabeça da chapa?"
   ]
  },
  {
   "cell_type": "code",
   "execution_count": null,
   "id": "0dc9c973",
   "metadata": {
    "scrolled": true
   },
   "outputs": [],
   "source": [
    "# Conta a frequência dos valores na coluna especificada\n",
    "df_pt_pl[\"SG_PARTIDO\"].value_counts()"
   ]
  },
  {
   "cell_type": "code",
   "execution_count": null,
   "id": "7d6abd3a",
   "metadata": {},
   "outputs": [],
   "source": [
    "# Salva o df\n",
    "df_pt_pl.to_csv('data/coligacoes_pt_pl.csv', decimal=\";\", index=False, encoding='latin-1')"
   ]
  },
  {
   "cell_type": "code",
   "execution_count": null,
   "id": "7637979b-0c4c-4493-b6e9-f0e61dec3f00",
   "metadata": {},
   "outputs": [],
   "source": []
  }
 ],
 "metadata": {
  "kernelspec": {
   "display_name": "Python 3 (ipykernel)",
   "language": "python",
   "name": "python3"
  },
  "language_info": {
   "codemirror_mode": {
    "name": "ipython",
    "version": 3
   },
   "file_extension": ".py",
   "mimetype": "text/x-python",
   "name": "python",
   "nbconvert_exporter": "python",
   "pygments_lexer": "ipython3",
   "version": "3.12.3"
  }
 },
 "nbformat": 4,
 "nbformat_minor": 5
}
